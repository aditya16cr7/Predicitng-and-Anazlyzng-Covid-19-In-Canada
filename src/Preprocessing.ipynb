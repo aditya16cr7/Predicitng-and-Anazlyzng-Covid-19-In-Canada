{
  "nbformat": 4,
  "nbformat_minor": 0,
  "metadata": {
    "colab": {
      "name": "Preprocessing.ipynb",
      "provenance": [],
      "collapsed_sections": []
    },
    "kernelspec": {
      "name": "python386jvsc74a57bd0272c2f4886412a9969b81a39c9c114bf822f57b7842284da7df6dfd056316268",
      "display_name": "Python 3.8.6 64-bit"
    },
    "language_info": {
      "name": "python",
      "version": "3.8.6"
    },
    "accelerator": "GPU",
    "metadata": {
      "interpreter": {
        "hash": "272c2f4886412a9969b81a39c9c114bf822f57b7842284da7df6dfd056316268"
      }
    }
  },
  "cells": [
    {
      "cell_type": "code",
      "metadata": {
        "id": "xZXNwHlPsPmt"
      },
      "source": [
        "pip install pytrends"
      ],
      "execution_count": null,
      "outputs": []
    },
    {
      "cell_type": "code",
      "metadata": {
        "id": "_Nm4VW6Esclt"
      },
      "source": [
        "import pandas as pd\n",
        "import numpy as np\n",
        "import matplotlib.pyplot as plt\n",
        "import seaborn as sb\n",
        "from pytrends.request import TrendReq\n",
        "from pytrends import dailydata\n",
        "from datetime import datetime, timedelta\n",
        "from collections import OrderedDict\n",
        "from calendar import monthrange"
      ],
      "execution_count": null,
      "outputs": []
    },
    {
      "cell_type": "code",
      "execution_count": 1,
      "metadata": {},
      "outputs": [],
      "source": [
        "import pandas as pd "
      ]
    },
    {
      "cell_type": "code",
      "metadata": {
        "colab": {
          "base_uri": "https://localhost:8080/"
        },
        "id": "FlmysUWwErFE",
        "outputId": "6b313b5a-51b6-48a4-8311-8bfc49176b4e"
      },
      "source": [
        "df_mob=pd.read_csv('../scraped_data_download/canada_mobility.csv')\n",
        "df_count=pd.read_csv('../scraped_data_download/dailytotals.csv')\n",
        "df_travel=pd.read_csv('../scraped_data_download/travel.csv')\n",
        "df_apple=pd.read_csv('../scraped_data_download/applemobilitytrends-2021-04-16.csv')"
      ],
      "execution_count": 2,
      "outputs": [
        {
          "output_type": "stream",
          "name": "stderr",
          "text": [
            "C:\\Users\\Shobhit\\AppData\\Roaming\\Python\\Python38\\site-packages\\IPython\\core\\interactiveshell.py:3146: DtypeWarning: Columns (3) have mixed types.Specify dtype option on import or set low_memory=False.\n  has_raised = await self.run_ast_nodes(code_ast.body, cell_name,\n"
          ]
        }
      ]
    },
    {
      "cell_type": "code",
      "metadata": {
        "id": "iCehK2JwaAN8",
        "colab": {
          "base_uri": "https://localhost:8080/"
        },
        "outputId": "4b3eda7e-251b-4a9f-f06f-5b16690f4b5c"
      },
      "source": [
        "from google.colab import drive\n",
        "drive.mount('/content/drive', force_remount=True)"
      ],
      "execution_count": null,
      "outputs": [
        {
          "output_type": "stream",
          "text": [
            "Mounted at /content/drive\n"
          ],
          "name": "stdout"
        }
      ]
    },
    {
      "cell_type": "code",
      "metadata": {
        "id": "hkl_5LB4FnqY"
      },
      "source": [
        "#Cleaning and appending to travel dataframe\n",
        "newcol=['canada','quebec','ontario','alberta','british columbia','canada-us','quebec-us','ontario-us','alberta-us','british columbia-us']\n",
        "dic=dict.fromkeys(df_travel.columns[1:11])\n",
        "i=0\n",
        "for j in dic.keys():\n",
        "  dic[j]=newcol[i]\n",
        "  i=i+1\n",
        "df_travel.rename(columns=dic,inplace=True)\n",
        "for i in df_travel.columns[1:11]:\n",
        "  df_travel[i]=df_travel[i].str.replace(',','')\n",
        "  df_travel[i]=df_travel[i].astype(int)\n",
        "df_travel.drop(columns=df_travel.columns[0],inplace=True)\n",
        "a=[];b=[]\n",
        "for c in newcol:\n",
        "  a.append(int(df_travel[c][10:].mean()))\n",
        "df_travel.loc[len(df_travel)]=a\n",
        "i=0\n",
        "for c in newcol: \n",
        "  b.append(int(df_travel[c][11:].mean()))\n",
        "df_travel.loc[len(df_travel)]=b"
      ],
      "execution_count": null,
      "outputs": []
    },
    {
      "cell_type": "code",
      "metadata": {
        "id": "KXoaQHPGl9_O"
      },
      "source": [
        "#Cleaning count dataframe\n",
        "df_count['Province']=df_count['Province'].str.lower()\n",
        "df_count['SummaryDate'] = df_count['SummaryDate'].str.replace('/','-')\n",
        "df_count['SummaryDate'] = df_count['SummaryDate'].str.replace('12:00:00+00','')\n",
        "df_count['SummaryDate']=pd.to_datetime(df_count['SummaryDate']).dt.date\n",
        "df_count['Province']=df_count['Province'].replace(['nl','bc','repatriated cdn','nwt','pei'],['newfoundland and labrador','british columbia','repatriated','northwest territories','prince edward island'])"
      ],
      "execution_count": null,
      "outputs": []
    },
    {
      "cell_type": "code",
      "metadata": {
        "id": "CoVHURYHWZ69"
      },
      "source": [
        "#Cleaning mobility dataframe\n",
        "df_mob.columns\n",
        "dic=dict.fromkeys(df_mob.columns[9:15])\n",
        "newcol=['recreation','essentials','parks','station_transit','workplace','resedential']\n",
        "i=0\n",
        "for j in dic.keys():\n",
        "  dic[j]=newcol[i]\n",
        "  i=i+1\n",
        "df_mob.rename(columns=dic,inplace=True)\n",
        "df_mob['sub_region_1']=df_mob['sub_region_1'].str.lower()\n",
        "df_mob['date']=pd.to_datetime(df_mob['date']).dt.date"
      ],
      "execution_count": null,
      "outputs": []
    },
    {
      "cell_type": "code",
      "metadata": {
        "id": "2hbfUqIP_Q70"
      },
      "source": [
        "#Cleaning apple mobility dataframe\n",
        "df_apple.drop(df_apple.loc[df_apple['country']!='Canada'].index, inplace=True)\n",
        "for i in df_apple.index:\n",
        "  if df_apple.loc[i,'region']=='Alberta':\n",
        "    df_apple.loc[i,'sub-region']='Alberta'\n",
        "  elif df_apple.loc[i,'region']=='British Columbia':\n",
        "    df_apple.loc[i,'sub-region']='British Columbia'\n",
        "  elif df_apple.loc[i,'region']=='Ontaio':\n",
        "    df_apple.loc[i,'sub-region']='Ontario'\n",
        "  elif df_apple.loc[i,'region']=='Quebec':\n",
        "    df_apple.loc[i,'sub-region']='Quebec'\n",
        "df_apple.drop(df_apple.loc[~df_apple['sub-region'].isin(['Alberta','Ontario','Quebec','British Columbia'])].index, inplace=True)\n",
        "df_apple.drop(columns=['geo_type','region','alternative_name','country'],inplace=True)\n",
        "a=df_apple.groupby(['sub-region','transportation_type'])\n",
        "for i in df_apple['sub-region'].unique():\n",
        "  for j in df_apple['transportation_type'].unique():\n",
        "    di=OrderedDict()\n",
        "    di['transportation_type']=j\n",
        "    di['sub-region']=i\n",
        "    for k in df_apple.columns[2:]:\n",
        "      di[k]=a.get_group((i,j))[k].mean()\n",
        "    df_apple=df_apple.append(di,ignore_index=True)\n",
        "df_apple=df_apple.drop(df_apple.index[0:27])\n",
        "df_apple['sub-region']=df_apple['sub-region'].str.lower()\n",
        "for t in df_apple.index:\n",
        "  for i,j in enumerate(df_apple.columns[2:]):\n",
        "    if pd.isna(df_apple.loc[t,j]):\n",
        "      df_apple.loc[t,j]=(df_apple.loc[t,df_apple.columns[i]] + df_apple.loc[t,df_apple.columns[i]])/2"
      ],
      "execution_count": null,
      "outputs": []
    },
    {
      "cell_type": "code",
      "metadata": {
        "id": "FFssMWiBlmP1"
      },
      "source": [
        "#Generating total sum plots for each territory\n",
        "prov=df_count.groupby('Province')\n",
        "data_total={}\n",
        "data_deaths={}\n",
        "loc={}\n",
        "deathperc={}\n",
        "for i,p in enumerate(prov.indices):\n",
        "  data_total[p]=prov.get_group(p)['DailyTotals'].sum()\n",
        "  data_deaths[p]=prov.get_group(p)['DailyDeaths'].sum()\n",
        "  loc[i]=p\n",
        "y=np.arange(len(loc))\n",
        "\n",
        "for k in data_total.keys():\n",
        "  deathperc[k]=round(data_deaths[k]/data_total[k],4)"
      ],
      "execution_count": null,
      "outputs": []
    },
    {
      "cell_type": "code",
      "metadata": {
        "id": "CYb3C-p4rjbB",
        "colab": {
          "base_uri": "https://localhost:8080/",
          "height": 329
        },
        "outputId": "b0308948-2ddc-4ecf-9c51-b5039b6c291b"
      },
      "source": [
        "#Case distribution by provinces\n",
        "plt.barh(y,data_total.values())\n",
        "plt.yticks(y,loc.values())\n",
        "plt.xlabel('TotalCases')\n",
        "for i, v in enumerate(data_total.values()):\n",
        "    plt.text(v+3, i-0.2, str(round(v*100/data_total['canada'],4)), color='black', fontweight='bold',fontsize='small')\n",
        "plt.title('Percentage of total cases by province')\n",
        "plt.show()\n",
        "top4=round((data_total['quebec']+data_total['ontario']+data_total['british columbia']+data_total['alberta'])*100/data_total['canada'],4)\n",
        "top6=round((data_total['quebec']+data_total['ontario']+data_total['british columbia']+data_total['alberta']+data_total['saskatchewan']+data_total['manitoba'])*100/data_total['canada'],4)\n",
        "print('Percentage of cases from top 4 provinces:',top4)\n",
        "print('Percentage of cases from top 6 provinces:',top6)"
      ],
      "execution_count": null,
      "outputs": [
        {
          "output_type": "display_data",
          "data": {
            "image/png": "[encoded data removed]",
            "text/plain": [
              "<Figure size 432x288 with 1 Axes>"
            ]
          },
          "metadata": {
            "tags": [],
            "needs_background": "light"
          }
        },
        {
          "output_type": "stream",
          "text": [
            "Percentage of cases from top 4 provinces: 92.6064\n",
            "Percentage of cases from top 6 provinces: 99.4902\n"
          ],
          "name": "stdout"
        }
      ]
    },
    {
      "cell_type": "code",
      "metadata": {
        "id": "wRtPveq_8N_Y",
        "colab": {
          "base_uri": "https://localhost:8080/",
          "height": 312
        },
        "outputId": "7a3d2c86-56a5-4cd0-c8c4-d36e38de5f6d"
      },
      "source": [
        "plt.barh(y,data_deaths.values(),color='red')\n",
        "plt.yticks(y,loc.values())\n",
        "plt.xlabel('TotalDeaths')\n",
        "for i, v in enumerate(data_deaths.values()):\n",
        "    plt.text(v+3, i-0.2, str(round(v*100/data_deaths['canada'],4)), color='black', fontweight='bold',fontsize='small')\n",
        "plt.title('Percentage of total deaths by province')\n",
        "plt.show()\n",
        "top4=round((data_deaths['quebec']+data_deaths['ontario']+data_deaths['british columbia']+data_deaths['alberta'])*100/data_deaths['canada'],4)\n",
        "print('Percentage of deaths from top 4 provinces:',top4)"
      ],
      "execution_count": null,
      "outputs": [
        {
          "output_type": "display_data",
          "data": {
            "image/png": "[encoded data removed]",
            "text/plain": [
              "<Figure size 432x288 with 1 Axes>"
            ]
          },
          "metadata": {
            "tags": [],
            "needs_background": "light"
          }
        },
        {
          "output_type": "stream",
          "text": [
            "Percentage of deaths from top 4 provinces: 93.8092\n"
          ],
          "name": "stdout"
        }
      ]
    },
    {
      "cell_type": "code",
      "metadata": {
        "id": "YBnD3SSwOedB"
      },
      "source": [
        "def top4_clean(df):\n",
        "  df['SummaryDate'] = df['SummaryDate'].str.replace('/','-')\n",
        "  df['SummaryDate'] = df['SummaryDate'].str.replace('12:00:00+00','')\n",
        "  df['SummaryDate']=pd.to_datetime(df['SummaryDate']).dt.date\n",
        "  df.drop(columns=['Province','Abbreviation','OBJECTID'],inplace=True)\n",
        "  df.set_index('SummaryDate',inplace=True)\n",
        "  return df"
      ],
      "execution_count": null,
      "outputs": []
    },
    {
      "cell_type": "code",
      "metadata": {
        "id": "-86gY5j5ptmM"
      },
      "source": [
        "def logdiff(df,date,nmonth):\n",
        "  df=top4_clean(df)\n",
        "  totcases=[];totdeaths=[];dates=[];daily=[]\n",
        "  start=date\n",
        "  if date.year==2020:\n",
        "    for d in df.index.unique():\n",
        "      if d.month>nmonth and d.year==2020:\n",
        "        break\n",
        "      elif d>=start and d.year==2020:\n",
        "        totcases.append(df.loc[d,'TotalCases'])\n",
        "        totdeaths.append(df.loc[d,'TotalDeaths'])\n",
        "        daily.append(df.loc[d,'DailyTotals'])\n",
        "        dates.append(d)\n",
        "  elif date.year==2021:\n",
        "    for d in df.index.unique()[335:]:\n",
        "        totcases.append(df.loc[d,'TotalCases'])\n",
        "        totdeaths.append(df.loc[d,'TotalDeaths'])\n",
        "        daily.append(df.loc[d,'DailyTotals'])\n",
        "        dates.append(d)\n",
        "  df=pd.DataFrame(list(zip(np.hstack(totcases),np.hstack(totdeaths),np.hstack(dates),np.hstack(daily))),columns=['totcases','totdeaths','date','daily'])\n",
        "  for i in range(len(df)):\n",
        "    df.loc[i,'logtot']=np.log(df.loc[i,'totcases'])\n",
        "    df.loc[i,'logdet']=np.log(df.loc[i,'totdeaths'])\n",
        "  for i in range(1,len(df)):\n",
        "    df.loc[i,'logdiff']=df.loc[i,'logtot']-df.loc[i-1,'logtot']\n",
        "    df.loc[i,'logddiff_det']=df.loc[i,'logdet']-df.loc[i-1,'logdet']\n",
        "  for i in range(1,len(df)):\n",
        "    df.loc[i,'diff']=df.loc[i,'daily']-df.loc[i-1,'daily']\n",
        "  df.set_index('date',inplace=True)\n",
        "  return df"
      ],
      "execution_count": null,
      "outputs": []
    },
    {
      "cell_type": "code",
      "metadata": {
        "id": "xG9LzsjTsyxB"
      },
      "source": [
        "def corr_mob(df,date,nmonth,province):\n",
        "  prov_mob=df_mob.groupby('sub_region_1')\n",
        "  prov_mob_daily=df_mob.groupby(['sub_region_1','date'])\n",
        "  apple_mob=df_apple.groupby(['sub-region','transportation_type'])\n",
        "  us=province+'-us'\n",
        "  top1=np.zeros((99,3));top2=np.zeros((99,3))\n",
        "  j=0\n",
        "  p1=df.isnull().sum()['logdiff']\n",
        "  p2=df_ab.isnull().sum()['logddiff_det']\n",
        "  #p2=df.isnull().sum()['diff']\n",
        "  if date.year==2020:\n",
        "    for i in range(6,15):\n",
        "      trans=[];walk=[];drive=[];rec=[];ess=[];par=[];st=[];wp=[];res=[];t1=[];t2=[]\n",
        "      for d in df.index.unique():\n",
        "        off=d-timedelta(days=i)\n",
        "        trans.append(apple_mob.get_group((province,'transit'))[str(off)])\n",
        "        walk.append(apple_mob.get_group((province,'walking'))[str(off)])\n",
        "        drive.append(apple_mob.get_group((province,'driving'))[str(off)])\n",
        "        rec.append(prov_mob_daily.get_group((province,off))['recreation'].mean())\n",
        "        ess.append(prov_mob_daily.get_group((province,off))['essentials'].mean())\n",
        "        par.append(prov_mob_daily.get_group((province,off))['parks'].mean())\n",
        "        st.append(prov_mob_daily.get_group((province,off))['station_transit'].mean())\n",
        "        wp.append(prov_mob_daily.get_group((province,off))['workplace'].mean())\n",
        "        res.append(prov_mob_daily.get_group((province,off))['resedential'].mean())\n",
        "        days=monthrange(2020,off.month)[1]\n",
        "        t1u=df_travel.loc[off.month-1,province]/days\n",
        "        t2u=df_travel.loc[off.month-1,us]/days\n",
        "        t1s=t1u*10/100\n",
        "        t2s=t2u*10/100\n",
        "        t1.append(np.random.normal(t1u,t1s))\n",
        "        t2.append(np.random.normal(t2u,t2s))\n",
        "      test=[trans,walk,drive,rec,ess,par,st,wp,res,t1,t2]\n",
        "      for n,col in enumerate(test):\n",
        "        top1[j][2]=np.corrcoef(df['logdiff'][p1:],np.hstack(col)[p1:])[1][0]\n",
        "        top1[j][1]=n\n",
        "        top1[j][0]=i\n",
        "        top2[j][2]=np.corrcoef(df['diff'][p2:],np.hstack(col)[p2:])[1][0] #O deaths in first 10 columns\n",
        "        top2[j][1]=n\n",
        "        top2[j][0]=i\n",
        "        j=j+1\n",
        "  elif date.year==2021:\n",
        "    top1=np.zeros((45,3));top2=np.zeros((45,3))\n",
        "    for i in range(6,15):\n",
        "      trans=[];walk=[];drive=[];t1=[];t2=[]\n",
        "      for d in df.index.unique():\n",
        "        off=d-timedelta(days=i)\n",
        "        trans.append(apple_mob.get_group((province,'transit'))[str(off)])\n",
        "        walk.append(apple_mob.get_group((province,'walking'))[str(off)])\n",
        "        drive.append(apple_mob.get_group((province,'driving'))[str(off)])\n",
        "        if off.year==2020:\n",
        "          mon=12\n",
        "          days=monthrange(2020,mon)[1]\n",
        "          t1u=df_travel.loc[mon-1,province]/days\n",
        "          t2u=df_travel.loc[mon-1,us]/days\n",
        "        else:\n",
        "           mon=off.month \n",
        "           days=monthrange(2020,mon)[1]\n",
        "           t1u=df_travel.loc[mon+11,province]/days\n",
        "           t2u=df_travel.loc[mon+11,us]/days\n",
        "        t1s=t1u*10/100\n",
        "        t2s=t2u*10/100\n",
        "        t1.append(np.random.normal(t1u,t1s))\n",
        "        t2.append(np.random.normal(t2u,t2s))\n",
        "      test=[trans,walk,drive,t1,t2]\n",
        "      for n,col in enumerate(test):\n",
        "        top1[j][2]=np.corrcoef(df['logdiff'][p1:],np.hstack(col)[p1:])[1][0]\n",
        "        top1[j][1]=n\n",
        "        top1[j][0]=i\n",
        "        top2[j][2]=np.corrcoef(df['logddiff_det'][p2:],np.hstack(col)[p2:])[1][0] #O deaths in first 10 columns\n",
        "        top2[j][1]=n\n",
        "        top2[j][0]=i\n",
        "        j=j+1\n",
        "  return top1,top2"
      ],
      "execution_count": null,
      "outputs": []
    },
    {
      "cell_type": "code",
      "metadata": {
        "id": "7NdXRPfRdZlE"
      },
      "source": [
        "def corr_cols(df,df_dat,date,nmonth):\n",
        "  j=0\n",
        "  top1=np.zeros((63,3));top2=np.zeros((63,3))\n",
        "  p1=df_ab.isnull().sum()['logdiff']+1\n",
        "  p2=df_ab.isnull().sum()['logddiff_det']+1\n",
        "  for i in range(6,15):\n",
        "    if date.year==2021:\n",
        "      rec=[];hosp=[];icu=[];tes=[];active=[];dvacc=[];totvacc=[]\n",
        "      for d in df.index.unique():\n",
        "        off=d-timedelta(days=i)\n",
        "        hosp.append(df_dat.loc[off,'TotalHospitalized'])\n",
        "        tes.append(df_dat.loc[off,'DailyTested'])\n",
        "        icu.append(df_dat.loc[off,'TotalICU'])\n",
        "        rec.append(df_dat.loc[off,'TotalRecovered'])\n",
        "        active.append(df_dat.loc[off,'TotalActive'])\n",
        "        dvacc.append(df_dat.loc[off,'DailyVaccinated'])\n",
        "        totvacc.append(df_dat.loc[off,'TotalVaccinated'])\n",
        "      test=[rec,hosp,icu,tes,active,dvacc,totvacc]\n",
        "      for n,col in enumerate(test):\n",
        "        top1[j][2]=np.corrcoef(df['logdiff'][p1:],np.hstack(col)[p1:])[1][0]\n",
        "        top1[j][1]=n\n",
        "        top1[j][0]=i\n",
        "        top2[j][2]=np.corrcoef(df['logddiff_det'][p2:],np.hstack(col)[p2:])[1][0] #O deaths in first 10 columns\n",
        "        top2[j][1]=n\n",
        "        top2[j][0]=i\n",
        "        j=j+1\n",
        "    elif date.year==2020:\n",
        "      rec=[];hosp=[];icu=[];tes=[];active=[]\n",
        "      for d in df.index.unique():\n",
        "        off=d-timedelta(days=i)\n",
        "        hosp.append(df_dat.loc[off,'TotalHospitalized'])\n",
        "        tes.append(df_dat.loc[off,'DailyTested'])\n",
        "        icu.append(df_dat.loc[off,'TotalICU'])\n",
        "        rec.append(df_dat.loc[off,'TotalRecovered'])\n",
        "        active.append(df_dat.loc[off,'TotalActive'])\n",
        "      test=[rec,hosp,icu,tes,active]\n",
        "      for n,col in enumerate(test):\n",
        "        top1[j][2]=np.corrcoef(df['logdiff'][p1:],np.hstack(col)[p1:])[1][0]\n",
        "        top1[j][1]=n\n",
        "        top1[j][0]=i\n",
        "        top2[j][2]=np.corrcoef(df['logddiff_det'][p2:],np.hstack(col)[p2:])[1][0] #O deaths in first 10 columns\n",
        "        top2[j][1]=n\n",
        "        top2[j][0]=i\n",
        "        j=j+1\n",
        "  return top1,top2"
      ],
      "execution_count": null,
      "outputs": []
    },
    {
      "cell_type": "code",
      "metadata": {
        "id": "BFhxspj-qdMX"
      },
      "source": [
        "def corr_words(df,date,nmonth,abv,words=[]):\n",
        "  p1=df.isnull().sum()['logdiff']+1\n",
        "  if date.year==2020:\n",
        "    mb1_trend=dailydata.get_daily_data(words[0],2020,date.month-1, 2020, nmonth, geo = abv)\n",
        "    mb2_trend=dailydata.get_daily_data(words[1],2020,date.month-1, 2020, nmonth, geo = abv)\n",
        "    mb3_trend=dailydata.get_daily_data(words[2],2020,date.month-1,2020,nmonth,geo=abv)\n",
        "  elif date.year==2021:\n",
        "    mb1_trend=dailydata.get_daily_data(words[0],2020,12, 2021, nmonth, geo = abv)\n",
        "    mb2_trend=dailydata.get_daily_data(words[1],2020,12, 2021, nmonth, geo = abv)\n",
        "    mb3_trend=dailydata.get_daily_data(words[2],2020,12,2021,nmonth,geo=abv)\n",
        "  s1=words[0]+'_unscaled'\n",
        "  s2=words[1]+'_unscaled'\n",
        "  s3=words[2]+'_unscaled'\n",
        "  top=np.zeros((42,2))\n",
        "  j=0\n",
        "  for i in range(1,15):\n",
        "    w1=[];w2=[];w3=[]\n",
        "    for d in df.index.unique():\n",
        "      off=d-timedelta(days=i)\n",
        "      w1.append(mb1_trend.loc[str(off),s1])\n",
        "      w2.append(mb2_trend.loc[str(off),s2])\n",
        "      w3.append(mb3_trend.loc[str(off),s3])\n",
        "    for k,c in enumerate([w1,w2,w3]):\n",
        "      top[j][1]=np.corrcoef(df['logdiff'][p1:],np.hstack(c[p1:]))[1][0]\n",
        "      top[j][0]=i\n",
        "      j=j+1\n",
        "  return top"
      ],
      "execution_count": null,
      "outputs": []
    },
    {
      "cell_type": "code",
      "metadata": {
        "id": "3qA46w0kMWPZ"
      },
      "source": [
        "def create_dataset(df,df_data,province,date,nmonth,abv,word,offset=[]):\n",
        "  prov_mob=df_mob.groupby('sub_region_1')\n",
        "  prov_mob_daily=df_mob.groupby(['sub_region_1','date'])\n",
        "  apple_mob=df_apple.groupby(['sub-region','transportation_type'])\n",
        "  us=province+'-us'\n",
        "  start=date \n",
        "  li1=['transit','walking','driving']\n",
        "  li2=['recreation','essentials','parks','station_transit','workplace','resedential']\n",
        "  li3=['TotalHospitalized','DailyTested','TotalICU','TotalRecovered','TotalActive']\n",
        "  t1=[];t2=[]\n",
        "  for c in li1:\n",
        "    el=[]\n",
        "    for d in df.index.unique():\n",
        "      off=d-timedelta(days=offset[0])\n",
        "      el.append(apple_mob.get_group((province,c))[str(off)])\n",
        "    #print(np.hstack(el))\n",
        "    df[c]=np.hstack(el)\n",
        "  if date.year==2020:\n",
        "    for c in li2:\n",
        "      el=[]\n",
        "      for d in df.index.unique():\n",
        "        off=d-timedelta(days=offset[0])\n",
        "        el.append(prov_mob_daily.get_group((province,off))[c].mean())\n",
        "      df[c]=np.hstack(el)\n",
        "  for c in li3:\n",
        "    el=[]\n",
        "    for d in df.index.unique():\n",
        "      off=d-timedelta(days=offset[1])\n",
        "      el.append(df_data.loc[off,c])\n",
        "    df[c]=np.hstack(el)\n",
        "  if date.year==2020:\n",
        "    for d in df.index.unique():\n",
        "      off=d-timedelta(days=offset[2])\n",
        "      days=monthrange(2020,off.month)[1]\n",
        "      t1u=df_travel.loc[off.month-1,province]/days\n",
        "      t2u=df_travel.loc[off.month-1,us]/days\n",
        "      t1s=t1u*10/100\n",
        "      t2s=t2u*10/100\n",
        "      t1.append(np.random.normal(t1u,t1s))\n",
        "      t2.append(np.random.normal(t2u,t2s))\n",
        "    df[province]=np.hstack(t1)\n",
        "    df[us]=np.hstack(t2)\n",
        "  if date.year==2021:\n",
        "    for d in df.index.unique():\n",
        "      off=d-timedelta(days=offset[2])\n",
        "      if off.year==2020:\n",
        "        mon=12\n",
        "        days=monthrange(2020,mon)[1]\n",
        "        t1u=df_travel.loc[mon-1,province]/days\n",
        "        t2u=df_travel.loc[mon-1,us]/days\n",
        "      else:\n",
        "        mon=off.month \n",
        "        days=monthrange(2020,mon)[1]\n",
        "        t1u=df_travel.loc[mon+11,province]/days\n",
        "        t2u=df_travel.loc[mon+11,us]/days\n",
        "      t1s=t1u*10/100\n",
        "      t2s=t2u*10/100\n",
        "      t1.append(np.random.normal(t1u,t1s))\n",
        "      t2.append(np.random.normal(t2u,t2s))\n",
        "    print(2)\n",
        "    df[province]=np.hstack(t1)\n",
        "    df[us]=np.hstack(t2)\n",
        "  if date.year==2021:\n",
        "    li4=['DailyVaccinated','TotalVaccinated']\n",
        "    for d in df.index.unique():\n",
        "      off1=d-timedelta(days=offset[1])\n",
        "      for c in li4:\n",
        "        df.loc[d,c]=df_data.loc[off1,c]\n",
        "  if date.month==1:\n",
        "    end1=12\n",
        "    end2=2021\n",
        "  else:\n",
        "    end1=date.month-1\n",
        "    end2=2020\n",
        "  w1=[]\n",
        "  mb1_trend=dailydata.get_daily_data(word, 2020,end1,end2,nmonth, geo = abv)\n",
        "  s1=word+'_unscaled'\n",
        "  for d in df.index.unique():\n",
        "    off2=d-timedelta(days=offset[2])\n",
        "    if mb1_trend.loc[str(off2),s1]==0:\n",
        "      w1.append(0.0001)\n",
        "    else:\n",
        "      w1.append(mb1_trend.loc[str(off2),s1])   \n",
        "  df[word]=np.hstack(w1)\n",
        "  return df"
      ],
      "execution_count": null,
      "outputs": []
    },
    {
      "cell_type": "code",
      "metadata": {
        "id": "P4GOZOGWpsPV"
      },
      "source": [
        "df_ontario=pd.read_csv('../scraped_data_download/ontario_totals.csv')#start with 335 for Jan 2021\n",
        "#df_quebec=pd.read_csv('../scraped_data_download/Quebec_totals.csv')\n",
        "#df_alberta=pd.read_csv('../scraped_data_download/Alberta_totals.csv')\n",
        "#df_british=pd.read_csv('../scraped_data_download/BritishColumbia_totals.csv')"
      ],
      "execution_count": 3,
      "outputs": []
    },
    {
      "cell_type": "code",
      "metadata": {
        "id": "zLaC3tL-rO-v",
        "colab": {
          "base_uri": "https://localhost:8080/"
        },
        "outputId": "19aa11d5-6c37-4e7f-8e24-b9189bcfa9f4"
      },
      "source": [
        "df_on=logdiff(df_ontario,datetime(2020,3,1).date(),12)\n",
        "#df_on_vacc=logdiff(df_ontario_vacc,datetime(2021,1,1).date(),4)\n",
        "#df_qb=logdiff(df_quebec,datetime(2020,3,1).date(),12)\n",
        "#df_qb_vacc=logdiff(df_quebec,datetime(2021,1,1).date(),4)\n",
        "#df_ab=logdiff(df_alberta,datetime(2020,3,1).date(),12)\n",
        "#df_ab_vacc=logdiff(df_alberta,datetime(2021,1,1).date(),4)\n",
        "#df_bc=logdiff(df_british,datetime(2020,3,1).date(),12)\n",
        "#df_bc_vacc=logdiff(df_british,datetime(2021,1,1).date(),4)"
      ],
      "execution_count": null,
      "outputs": [
        {
          "output_type": "stream",
          "text": [
            "/usr/local/lib/python3.7/dist-packages/ipykernel_launcher.py:23: RuntimeWarning: divide by zero encountered in log\n",
            "/usr/local/lib/python3.7/dist-packages/ipykernel_launcher.py:26: RuntimeWarning: invalid value encountered in double_scalars\n"
          ],
          "name": "stderr"
        }
      ]
    },
    {
      "cell_type": "code",
      "metadata": {
        "colab": {
          "base_uri": "https://localhost:8080/",
          "height": 624
        },
        "id": "-zwE06iq3qfH",
        "outputId": "1a78a173-2d26-4de7-a108-4acfaab9a1b5"
      },
      "source": [
        "f,ax=plt.subplots(2,1,figsize=(15,10))\n",
        "ax[0].plot(df_on['logdiff'])\n",
        "ax[0].set_title('daily logdiffernce')\n",
        "ax[1].plot(df_on['daily'])\n",
        "ax[1].set_title('daily totals')"
      ],
      "execution_count": null,
      "outputs": [
        {
          "output_type": "execute_result",
          "data": {
            "text/plain": [
              "Text(0.5, 1.0, 'daily totals')"
            ]
          },
          "metadata": {
            "tags": []
          },
          "execution_count": 25
        },
        {
          "output_type": "display_data",
          "data": {
            "image/png": "[encoded data removed]",
            "text/plain": [
              "<Figure size 1080x720 with 2 Axes>"
            ]
          },
          "metadata": {
            "tags": [],
            "needs_background": "light"
          }
        }
      ]
    },
    {
      "cell_type": "code",
      "metadata": {
        "id": "4rrZ9owx1WsW"
      },
      "source": [
        "a,b=corr_mob(df_on,datetime(2020,3,1).date(),12,'ontario') #9 days,14 days; 10days,12 days\n",
        "#a,b=corr_mob(df_on_vacc,datetime(2021,3,1).date(),4,'ontario') #8 days; 12days\n",
        "#a,b=corr_mob(df_qb,datetime(2020,3,1).date(),12,'quebec')#9 days\n",
        "#a,b=corr_mob(df_qb_vacc,datetime(2021,1,1).date(),4,'quebec')#9 days\n",
        "#a,b=corr_mob(df_ab,datetime(2020,3,1).date(),12,'alberta')#9 days\n",
        "#a,b=corr_mob(df_ab_vacc,datetime(2021,1,1).date(),4,'alberta')#13 days\n",
        "#a,b=corr_mob(df_bc,datetime(2020,3,1).date(),12,'british columbia')#7days\n",
        "#a,b=corr_mob(df_bc_vacc,datetime(2021,1,1).date(),4,'british columbia')#8days"
      ],
      "execution_count": null,
      "outputs": []
    },
    {
      "cell_type": "code",
      "metadata": {
        "id": "y6L2Es-30ktO"
      },
      "source": [
        "f,ax=plt.subplots(2,1,figsize=(20,10))\n",
        "ax[0].plot(a.T[0],a.T[2])\n",
        "ax[0].set_xlabel('Days offset')\n",
        "ax[0].set_ylabel('Correlation')\n",
        "ax[1].plot(b.T[0],b.T[2])\n",
        "ax[1].set_xlabel('Days offset')\n",
        "ax[1].set_ylabel('Correlation')"
      ],
      "execution_count": null,
      "outputs": []
    },
    {
      "cell_type": "code",
      "metadata": {
        "id": "0Abu6EpFhdLq"
      },
      "source": [
        "#c,d=corr_cols(df_on,df_ontario,datetime(2020,3,1).date(),12) #10days,12 days,14 days; 10 days,11 days\n",
        "#c,d=corr_cols(df_on_vacc,df_ontario_vacc,datetime(2021,1,1).date(),4) #6days; 10 days,11 days\n",
        "#c,d=corr_cols(df_qb,df_quebec,datetime(2020,3,1).date(),12) #6days\n",
        "#c,d=corr_cols(df_qb_vacc,df_quebec,datetime(2021,1,1).date(),4) #6days\n",
        "#c,d=corr_cols(df_ab,df_alberta,datetime(2020,3,1).date(),12)#12 days\n",
        "#c,d=corr_cols(df_ab_vacc,df_alberta,datetime(2021,1,1).date(),4)#6days\n",
        "#c,d=corr_cols(df_bc,df_british,datetime(2020,3,1).date(),12)#9days\n",
        "c,d=corr_cols(df_bc_vacc,df_british,datetime(2021,1,1).date(),4)#7days"
      ],
      "execution_count": null,
      "outputs": []
    },
    {
      "cell_type": "code",
      "metadata": {
        "id": "qECFRrbXhrVW"
      },
      "source": [
        "f,ax=plt.subplots(2,1,figsize=(20,10))\n",
        "ax[0].plot(c.T[0],c.T[2])\n",
        "ax[0].set_xlabel('Days offset')\n",
        "ax[0].set_ylabel('Correlation')\n",
        "ax[1].plot(d.T[0],d.T[2])\n",
        "ax[1].set_xlabel('Days offset')\n",
        "ax[1].set_ylabel('Correlation')"
      ],
      "execution_count": null,
      "outputs": []
    },
    {
      "cell_type": "code",
      "metadata": {
        "id": "0u1AZKjZtIFU",
        "colab": {
          "base_uri": "https://localhost:8080/"
        },
        "outputId": "f9999fd2-fb7e-47d0-9a56-54f8db299dc7"
      },
      "source": [
        "#e=corr_words(df_on,datetime(2020,3,1).date(),12,'CA-ON',['Coronavirus','Lockdown','Coronavirus Ontario'])# Coronavirus 10,11 days\n",
        "#e=corr_words(df_on_vacc,datetime(2021,1,1).date(),4,'CA-ON',['Coronavirus','Vaccine','Ontario Vaccine']) #Ontario Vaccine 3 days\n",
        "#e=corr_words(df_qb,datetime(2020,3,1).date(),12,'CA-QC',['Coronavirus','Lockdown','Coronavirus Quebec']) #Coronavirus 4 days\n",
        "#e=corr_words(df_qb_vacc,datetime(2021,1,1).date(),4,'CA-QC',['Coronavirus','Vaccine','Quebec Vaccine'])# Quebec Vaccine 3 days\n",
        "#e=corr_words(df_ab,datetime(2020,3,1).date(),12,'CA-AB',['Coronavirus','Lockdown','Coronavirus Alberta'])#Coronavirus 5 days\n",
        "#e=corr_words(df_ab_vacc,datetime(2021,1,1).date(),4,'CA-AB',['Coronavirus','Vaccine','Alberta Vaccine'])#Alberta Vaccine 7 days\n",
        "#e=corr_words(df_bc,datetime(2020,3,1).date(),12,'CA-BC',['Coronavirus','Lockdown','Coronavirus BC'])#Coronavirus 14days\n",
        "e=corr_words(df_bc_vacc,datetime(2021,1,1).date(),4,'CA-BC',['Coronavirus','Vaccine','BC Vaccine'])#Coronavirus 6days"
      ],
      "execution_count": null,
      "outputs": [
        {
          "output_type": "stream",
          "text": [
            "Coronavirus:2020-12-01 2020-12-31\n",
            "Coronavirus:2021-01-01 2021-01-31\n",
            "Coronavirus:2021-02-01 2021-02-28\n",
            "Coronavirus:2021-03-01 2021-03-31\n",
            "Coronavirus:2021-04-01 2021-04-30\n",
            "Vaccine:2020-12-01 2020-12-31\n",
            "Vaccine:2021-01-01 2021-01-31\n",
            "Vaccine:2021-02-01 2021-02-28\n",
            "Vaccine:2021-03-01 2021-03-31\n",
            "Vaccine:2021-04-01 2021-04-30\n",
            "BC Vaccine:2020-12-01 2020-12-31\n",
            "BC Vaccine:2021-01-01 2021-01-31\n",
            "BC Vaccine:2021-02-01 2021-02-28\n",
            "BC Vaccine:2021-03-01 2021-03-31\n",
            "BC Vaccine:2021-04-01 2021-04-30\n"
          ],
          "name": "stdout"
        }
      ]
    },
    {
      "cell_type": "code",
      "metadata": {
        "id": "G32Q0wdtDyAA"
      },
      "source": [
        "plt.plot(e.T[0],e.T[1])"
      ],
      "execution_count": null,
      "outputs": []
    },
    {
      "cell_type": "code",
      "metadata": {
        "id": "6Cxf4OWuUPYD",
        "colab": {
          "base_uri": "https://localhost:8080/"
        },
        "outputId": "633640dc-0702-49a9-997d-25ac4f6fd09b"
      },
      "source": [
        "#ontario=create_dataset(df_on,df_ontario,'ontario',datetime(2020,3,1).date(),12,'CA-ON','Coronavirus',[9,10,10])\n",
        "#ontario_vacc=create_dataset(df_on_vacc,df_ontario_vacc,'ontario',datetime(2021,1,1).date(),4,'CA-ON','Ontario Vaccine',[8,6,3])\n",
        "#quebec=create_dataset(df_qb,df_quebec,'quebec',datetime(2020,3,1).date(),12,'CA-QC','Coronavirus',[9,6,4])\n",
        "#quebec_vacc=create_dataset(df_qb_vacc,df_quebec,'quebec',datetime(2021,1,1).date(),4,'CA-QC','Quebec Vaccine',[9,6,3])\n",
        "#alberta=create_dataset(df_ab,df_alberta,'alberta',datetime(2020,3,1).date(),12,'CA-AB','Coronavirus',[9,12,5])\n",
        "#alberta_vacc=create_dataset(df_ab_vacc,df_alberta,'alberta',datetime(2021,1,1).date(),4,'CA-AB','Alberta Vaccine',[13,6,7])\n",
        "#bc=create_dataset(df_bc,df_british,'british columbia',datetime(2020,3,1).date(),12,'CA-BC','Coronavirus',[7,9,14])\n",
        "bc_vacc=create_dataset(df_bc_vacc,df_british,'british columbia',datetime(2021,1,1).date(),4,'CA-BC','Coronavirus',[8,7,6])"
      ],
      "execution_count": null,
      "outputs": [
        {
          "output_type": "stream",
          "text": [
            "2\n",
            "Coronavirus:2020-12-01 2020-12-31\n",
            "Coronavirus:2021-01-01 2021-01-31\n",
            "Coronavirus:2021-02-01 2021-02-28\n",
            "Coronavirus:2021-03-01 2021-03-31\n",
            "Coronavirus:2021-04-01 2021-04-30\n"
          ],
          "name": "stdout"
        }
      ]
    },
    {
      "cell_type": "code",
      "metadata": {
        "id": "gsP6T9FWjfZQ"
      },
      "source": [
        "#ontario.to_csv('/content/drive/MyDrive/ML project/data files/ontario_data.csv')\n",
        "#ontario_vacc.to_csv('/content/drive/MyDrive/ML project/data files/ontario_vacc.csv')\n",
        "#quebec.to_csv('/content/drive/MyDrive/ML project/data files/quebec_data.csv')\n",
        "#quebec_vacc.to_csv('/content/drive/MyDrive/ML project/data files/quebec_vacc.csv')\n",
        "#alberta.to_csv('/content/drive/MyDrive/ML project/data files/alberta_data.csv')\n",
        "#alberta_vacc.to_csv('/content/drive/MyDrive/ML project/data files/alberta_vacc.csv')\n",
        "#bc.to_csv('/content/drive/MyDrive/ML project/data files/britishcolumbia_data.csv')\n",
        "bc_vacc.to_csv('/content/drive/MyDrive/ML project/data files/britishcolumbia_vacc.csv')"
      ],
      "execution_count": null,
      "outputs": []
    }
  ]
}